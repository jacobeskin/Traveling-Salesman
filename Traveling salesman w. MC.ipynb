{
 "cells": [
  {
   "cell_type": "markdown",
   "metadata": {},
   "source": [
    "## Traveling salesman problem  using simulated annealing MC\n",
    "\n",
    "Small project on solving (or approximating the solution) the traveling salesman problem using the simulated annealing Monte Carlo technique. The salesman has to visit the 10 largest cities in the US, ranked here by population and coordinates in degrees (Wikipedia):\n",
    "\n",
    "New York          40.6635 N , 73.9387 W\n",
    "\n",
    "Los Angeles       34.0194 N , 118.4108 W\n",
    "\n",
    "Chicago           41.8376 N , 87.6618 W\n",
    "\n",
    "Houston           29.7866 N , 95.3909 W\n",
    "\n",
    "Phoenix           33.5722 N , 112.0901 W\n",
    "\n",
    "Philadelphia      40.0094 N , 75.1333 W\n",
    "\n",
    "San Antonio       29.4724 N , 98.7665 W\n",
    "\n",
    "San Diego         32.8153 N , 117.1350 W\n",
    "\n",
    "Dallas            32.7933 N , 96.7665 W\n",
    "\n",
    "San Jose          37.2967 N , 121.8189 W\n",
    "\n",
    "The distances between cities will be calculated on a flat 2D grid where the longitude and latitude will serve as the traditional x- and y-axes. One degree is about 69 miles.  \n",
    "\n",
    "The distances between each city will be stored in an 10x10 array, and the total distance traveled will be minimized using the simulated annealing technique by lowering the \"temperature\" in a sawtooth- like fashion with the standard Metropolis algorithm."
   ]
  },
  {
   "cell_type": "code",
   "execution_count": 1,
   "metadata": {},
   "outputs": [],
   "source": [
    "# Import dependencies \n",
    "import numpy as np\n",
    "import pandas as pd \n",
    "\n",
    "import matplotlib.pyplot as plt\n",
    "%matplotlib inline"
   ]
  },
  {
   "cell_type": "code",
   "execution_count": 2,
   "metadata": {},
   "outputs": [
    {
     "name": "stdout",
     "output_type": "stream",
     "text": [
      "                   NY       LA  Chicago  Houston  Phoenix Philadelphia  \\\n",
      "NY                  0  44.9728  13.7732  24.0521  38.8048      1.36195   \n",
      "LA            44.9728        0  31.7343  23.4129  6.34368      43.6972   \n",
      "Chicago       13.7732  31.7343        0  14.3166  25.7887      12.6612   \n",
      "Houston       24.0521  23.4129  14.3166        0  17.1229      22.6909   \n",
      "Phoenix       38.8048  6.34368  25.7887  17.1229        0      37.5132   \n",
      "Philadelphia  1.36195  43.6972  12.6612  22.6909  37.5132            0   \n",
      "San_Antonio   27.0135  20.4059  16.4593  3.14991   14.171      25.6555   \n",
      "San_Diego     43.9035  1.75953  30.8232   21.954  5.10136      42.6134   \n",
      "Dallas        24.1464  21.6862  12.8334  3.30644  15.3434       22.805   \n",
      "San_Jose      47.9984  4.72301  34.4576  27.4744  10.4174      46.7643   \n",
      "\n",
      "             San_Antonio San_Diego   Dallas San_Jose  \n",
      "NY               27.0135   43.9035  24.1464  47.9984  \n",
      "LA               20.4059   1.75953  21.6862  4.72301  \n",
      "Chicago          16.4593   30.8232  12.8334  34.4576  \n",
      "Houston          3.14991    21.954  3.30644  27.4744  \n",
      "Phoenix           14.171   5.10136  15.3434  10.4174  \n",
      "Philadelphia     25.6555   42.6134   22.805  46.7643  \n",
      "San_Antonio            0   18.9078   3.7578  24.5728  \n",
      "San_Diego        18.9078         0  20.3685  6.48243  \n",
      "Dallas            3.7578   20.3685        0  25.4539  \n",
      "San_Jose         24.5728   6.48243  25.4539        0  \n"
     ]
    }
   ],
   "source": [
    "cities = {'NY' : np.array([73.9387, 40.6635]),\n",
    "          'LA' : np.array([118.4180, 34.0194]),\n",
    "          'Chicago' : np.array([87.6618, 41.8376]),\n",
    "          'Houston' : np.array([95.3909, 29.7866]),\n",
    "          'Phoenix' : np.array([112.0901, 33.5722]),\n",
    "          'Philadelphia' : np.array([75.1333, 40.0094]),\n",
    "          'San_Antonio' : np.array([98.5251, 29.4724]),\n",
    "          'San_Diego' : np.array([117.1350, 32.8153]),\n",
    "          'Dallas' : np.array([96.7665, 32.7933]),\n",
    "          'San_Jose' : np.array([121.8189, 37.2967]),\n",
    "}\n",
    "\n",
    "df = pd.DataFrame(columns=list(cities.keys()), index=list(cities.keys()))\n",
    "for i in cities:\n",
    "    for j in cities:\n",
    "        df[i].loc[j] = np.linalg.norm(cities[i]-cities[j])\n",
    "print(df)"
   ]
  },
  {
   "cell_type": "code",
   "execution_count": 3,
   "metadata": {},
   "outputs": [],
   "source": [
    "# Store the coordinates in a dictionary, lognitude first in order to follow the standard (x,y)-coordinate notation\n",
    "cities = {'NY' : np.array([73.9387, 40.6635]),\n",
    "          'LA' : np.array([118.4180, 34.0194]),\n",
    "          'Chicago' : np.array([87.6618, 41.8376]),\n",
    "          'Houston' : np.array([95.3909, 29.7866]),\n",
    "          'Phoenix' : np.array([112.0901, 33.5722]),\n",
    "          'Philadelphia' : np.array([75.1333, 40.0094]),\n",
    "          'San_Antonio' : np.array([98.5251, 29.4724]),\n",
    "          'San_Diego' : np.array([117.1350, 32.8153]),\n",
    "          'Dallas' : np.array([96.7665, 32.7933]),\n",
    "          'San_Jose' : np.array([121.8189, 37.2967]),\n",
    "}"
   ]
  },
  {
   "cell_type": "code",
   "execution_count": 4,
   "metadata": {},
   "outputs": [],
   "source": [
    "# Class for minimizing the path\n",
    "class MC_TSM:\n",
    "    \n",
    "    # Constructor takes in the dictionary of the cities and their coordinates and creates a dataframe\n",
    "    # of the distances between the cities. The initial sequence of the cities is just as it is in the dictionaty\n",
    "    # and the beginning distance is calculated from that. Also it takes in the simulation parameters; number of \n",
    "    # times the simulated annealing process is performed per starting \"temperature\", starting \"temperature\", change in the starting \"temperature\" for each of the annealing\n",
    "    # pricesses and change in \"temperature\" for the Metropolis algorithm.\n",
    "    def __init__(self, cities, n_sa, n_sim_max, t_0, dt_sa, dt_sim): # n_sim_max is the maximum simulation steps\n",
    "        \n",
    "        self.cities = cities\n",
    "        self.df = pd.DataFrame(columns=list(self.cities.keys()), index=list(self.cities.keys()))\n",
    "        \n",
    "        self.n_sa, self.n_sim_max, self.t_0, self.dt_sa, self.dt_sim = n_sa, n_sim_max, t_0, dt_sa, dt_sim\n",
    "        \n",
    "        # Create the dataframe of the distances\n",
    "        for i in self.cities:\n",
    "            for j in self.cities:\n",
    "                self.df[i].loc[j] = np.linalg.norm(self.cities[i]-self.cities[j])\n",
    "                \n",
    "        # Create a list of the order of the cities and calculate the initial distance\n",
    "        self.c_list = list(self.cities.keys())\n",
    "        self.dist_0 = 0\n",
    "        self.dist_0 = sum([self.dist_0+df.loc[self.c_list[i]][self.c_list[i+1]] for i in range(len(self.c_list)-1)])\n",
    "        \n",
    "        # Lists for periodiaclly saving the distance and temperature, used for plotting afterwards\n",
    "        self.dist_v = []\n",
    "        self.tt = [self.t_0]\n",
    "        \n",
    "    # The method for the Metropolis algorithm. Takes in the numer of simulation steps, a value for the\n",
    "    # \"temeperature\" and an amount it is decreased after every step.\n",
    "    def metro(self):\n",
    "        \n",
    "        for i in range(self.n_sa):\n",
    "            \n",
    "            t = self.t_0\n",
    "            \n",
    "            # The number of steps in the Metropolis algorithm is boudend by the fact that t<0.01 gives \n",
    "            # me overflow warnings, so I define it like this\n",
    "            n = np.maximum(int((t-0.01)/(self.dt_sim*t)),0)\n",
    "            n_sim = np.minimum(n, self.n_sim_max)\n",
    "        \n",
    "            for j in range(n_sim):\n",
    "            \n",
    "                # Choose two cities at random for swapping\n",
    "                city1 = np.random.randint(len(self.c_list))\n",
    "                city2 = np.random.randint(len(self.c_list))\n",
    "            \n",
    "                # Swap the cities\n",
    "                tmpc = self.c_list\n",
    "                tmpc[city1], tmpc[city2] = self.c_list[city2], self.c_list[city1]\n",
    "            \n",
    "                # Calculate the new distance\n",
    "                new_distance = 0\n",
    "                new_distance = sum([new_distance+df.loc[tmpc[k]][tmpc[k+1]] for k in range(len(tmpc)-1)])\n",
    "            \n",
    "                # Acceptance or rejection part\n",
    "                if new_distance-self.dist_0<=0: \n",
    "                    self.dist_0 = new_distance\n",
    "                    self.c_list = tmpc\n",
    "                else:\n",
    "                    u = np.random.random()\n",
    "                    if u < np.exp((self.dist_0-new_distance)/t): \n",
    "                        self.dist_0 = new_distance\n",
    "                        self.c_list = tmpc\n",
    "                        \n",
    "                # Save the distance for plotting, save temperature for plotting\n",
    "                if np.mod(j,10)==0: \n",
    "                    self.dist_v.append(self.dist_0)\n",
    "                    self.tt.append(t)\n",
    "                    \n",
    "                # Lower the temperature\n",
    "                t -= self.t_0*self.dt_sim                \n",
    "                    \n",
    "            # New starting temperature for the next simulated annealing run\n",
    "            self.t_0 = self.t_0*self.dt_sa\n",
    "            \n",
    "        return(self.dist_0, self.c_list)"
   ]
  },
  {
   "cell_type": "code",
   "execution_count": 5,
   "metadata": {},
   "outputs": [
    {
     "name": "stdout",
     "output_type": "stream",
     "text": [
      "Distance in the beginning:  16287.147 miles.\n",
      "Sequence of the cities in the beginning:  \n",
      " ['NY', 'LA', 'Chicago', 'Houston', 'Phoenix', 'Philadelphia', 'San_Antonio', 'San_Diego', 'Dallas', 'San_Jose']\n"
     ]
    }
   ],
   "source": [
    "# MC_TSM(cities, n_sa, n_sim_max, t_0, dt_sa, dt_sim)\n",
    "distance = MC_TSM(cities, 200, 2000, 5000, 0.85, 0.0001)\n",
    "print('Distance in the beginning: ', '{0:2.3f}'.format(distance.dist_0*69), 'miles.')\n",
    "print('Sequence of the cities in the beginning: ', '\\n', distance.c_list)"
   ]
  },
  {
   "cell_type": "code",
   "execution_count": 6,
   "metadata": {},
   "outputs": [],
   "source": [
    "# Lets try and find the right minima for the distance\n",
    "new_distance, route = distance.metro()"
   ]
  },
  {
   "cell_type": "code",
   "execution_count": 7,
   "metadata": {},
   "outputs": [
    {
     "name": "stdout",
     "output_type": "stream",
     "text": [
      "Minimized distance:  4075.675 miles.\n",
      "The route:  \n",
      " ['Dallas', 'Houston', 'San_Antonio', 'NY', 'LA', 'San_Jose', 'Phoenix', 'Philadelphia', 'San_Diego', 'Chicago']\n"
     ]
    },
    {
     "data": {
      "image/png": "[encoded data removed]",
      "text/plain": [
       "<matplotlib.figure.Figure at 0x7f1149e417b8>"
      ]
     },
     "metadata": {},
     "output_type": "display_data"
    }
   ],
   "source": [
    "# Plot the change in distance during the simulation\n",
    "from importlib import reload   # not needed for python 2, added this due to a persisting error..\n",
    "reload(plt)\n",
    "plt.figure(figsize=(12,6))\n",
    "plt.plot(distance.dist_v)\n",
    "\n",
    "print('Minimized distance: ', '{0:2.3f}'.format(new_distance*69), 'miles.')\n",
    "print('The route: ', '\\n', route)"
   ]
  },
  {
   "cell_type": "code",
   "execution_count": 8,
   "metadata": {},
   "outputs": [
    {
     "data": {
      "text/plain": [
       "[<matplotlib.lines.Line2D at 0x7f11415dd128>]"
      ]
     },
     "execution_count": 8,
     "metadata": {},
     "output_type": "execute_result"
    },
    {
     "data": {
      "image/png": "[encoded data removed]",
      "text/plain": [
       "<matplotlib.figure.Figure at 0x7f1149e04be0>"
      ]
     },
     "metadata": {},
     "output_type": "display_data"
    }
   ],
   "source": [
    "# Plot the change in temperature  during simulation\n",
    "plt.figure(figsize=(12,6))\n",
    "plt.plot(distance.tt)"
   ]
  },
  {
   "cell_type": "markdown",
   "metadata": {},
   "source": [
    "There are multiple challenges in trying to find the minimum distance this way, one major one is the computational time. The correct way to approach solving this is not with an interpreted language, the only way to get manageble calculation times would be to do this in Fortran or C++, which would allow us to use more simulation steps and finish the simulation still in this century. Because of the long computation time and this being just an illustration of the possible MC method to do this minimization, the simulation step number is being kept small and hence the calculated minimum will most likely be a local minima instead of the global minima."
   ]
  },
  {
   "cell_type": "code",
   "execution_count": null,
   "metadata": {},
   "outputs": [],
   "source": []
  }
 ],
 "metadata": {
  "kernelspec": {
   "display_name": "Python 3",
   "language": "python",
   "name": "python3"
  },
  "language_info": {
   "codemirror_mode": {
    "name": "ipython",
    "version": 3
   },
   "file_extension": ".py",
   "mimetype": "text/x-python",
   "name": "python",
   "nbconvert_exporter": "python",
   "pygments_lexer": "ipython3",
   "version": "3.6.4"
  }
 },
 "nbformat": 4,
 "nbformat_minor": 2
}
